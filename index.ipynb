{
 "cells": [
  {
   "cell_type": "markdown",
   "metadata": {},
   "source": [
    "# Notions de base de Python"
   ]
  },
  {
   "cell_type": "code",
   "execution_count": null,
   "metadata": {},
   "outputs": [],
   "source": [
    "# Enable inline plotting\n",
    "%matplotlib inline \n",
    "%autosave 300"
   ]
  },
  {
   "cell_type": "markdown",
   "metadata": {},
   "source": [
    "## Indentation\n",
    "Le corps d'un bloc de code (boucles, sous-routines, etc.) est défini par son indentation: \n",
    "\n",
    "- **l'indentation est une partie intégrante de la syntaxe de Python.**\n",
    "\n",
    "## Commentaires\n",
    "Le symbole dièse ```#``` indique le début d'un commentaire: \n",
    "\n",
    "- **tous les caractères entre # et la fin de la ligne sont ignorés par l'interpréteur.**\n",
    "\n",
    "## Variables et affectation\n",
    "Dans la plupart des langages informatiques, le nom d'une variable représente une valeur d'un type donné stockée dans un emplacement de mémoire fixe. La valeur peut être modifiée, mais pas le type. Ce n'est pas le cas en Python, où les variables sont typées dynamiquement."
   ]
  },
  {
   "cell_type": "code",
   "execution_count": null,
   "metadata": {},
   "outputs": [],
   "source": [
    "b = 2 # b is an integer \n",
    "print(b)"
   ]
  },
  {
   "cell_type": "code",
   "execution_count": null,
   "metadata": {},
   "outputs": [],
   "source": [
    " b = b*2.0 # b is a float \n",
    "print(b)"
   ]
  },
  {
   "cell_type": "markdown",
   "metadata": {},
   "source": [
    "L'affectation ```b = 2``` crée une association entre l'identifiant(le nom) et le nombre entier. La déclaration ```b*2.0``` évalue l'expression et associe le résultat à ```b```; l'association d'origine avec l'entier est détruite. Maintenant ```b``` se réfère à la valeur en virgule flottante 4.0. Il faut bien prendre comprendre que l'instruction d'affectation ```=``` n'a pas la même signification que le symbole d'égalité ```=``` en mathématiques (ceci explique pourquoi l'affectation de 3 à ```x``` en phyton se note ```x=3``` et $x\\leftarrow 3$ en alogorithme).\n",
    "\n",
    "On peut effectuer des affectations simultanées:\n"
   ]
  },
  {
   "cell_type": "code",
   "execution_count": null,
   "metadata": {},
   "outputs": [],
   "source": [
    "a, b = 128, 256 \n",
    "print(a) \n",
    "print(b)\n",
    "a,b = b,a \n",
    "print(a) \n",
    "print(b)"
   ]
  },
  {
   "cell_type": "markdown",
   "metadata": {},
   "source": [
    "Attention: Python est sensible à la casse. Ainsi, les noms n et N représentent différents objets. Les noms de variables peuvent être non seulement des lettres, mais aussi des mots; ils peuvent contenir des chiffres (à condition toutefois de ne pas commencer par un chiffre), ainsi que certains caractères spéciaux comme le tiret bas _ (appelé underscore en anglais)."
   ]
  },
  {
   "cell_type": "markdown",
   "metadata": {},
   "source": [
    "## Chaîne de caractères (Strings)\n",
    "Une chaîne de caractères est une séquence de caractères entre guillemets (simples ou doubles). Les chaînes de caractères sont concaténées avec l'opérateur plus + , tandis que l'opérateur : est utilisé pour extraire une portion de la chaîne. "
   ]
  },
  {
   "cell_type": "code",
   "execution_count": null,
   "metadata": {},
   "outputs": [],
   "source": [
    "string1 = 'Press return to exit'\n",
    "string2 = 'the program'\n",
    "print(string1 + ' ' + string2) # Concatenation \n",
    "print(string1[0:12])# Slicing"
   ]
  },
  {
   "cell_type": "markdown",
   "metadata": {},
   "source": [
    "Une chaîne de caractères est un **objet immuable**, i.e. ses caractères ne peuvent pas être modifiés par une affectation, et sa longueur est fixe. Si on essaye de modifier un caractère d'une chaîne de caractères, Python renvoie une erreur:"
   ]
  },
  {
   "cell_type": "code",
   "execution_count": null,
   "metadata": {},
   "outputs": [],
   "source": [
    "s = 'Press return to exit'\n",
    "#s[0] = 'p' # Décommenter pour voir l'exception"
   ]
  },
  {
   "cell_type": "markdown",
   "metadata": {},
   "source": [
    "## Listes\n",
    "Une liste est une suite d'objets, rangés dans un certain ordre. Chaque objet est séparé par une virgule et l'ensemble est encadrée par des crochets. Une liste n'est pas forcement homogène: elle peut contenir des objets de types différents les uns des autres. La première manipulation que l'on a besoin d'effectuer sur une liste, c'est d'en extraire et/ou modifier un élément: la syntaxe est ```ListName[index]``` ."
   ]
  },
  {
   "cell_type": "code",
   "execution_count": null,
   "metadata": {},
   "outputs": [],
   "source": [
    "fraise = [12, 10, 18, 7, 15, 3] # Create a list \n",
    "print(fraise)\n",
    "fraise[2]\n",
    "fraise[1] = 11\n",
    "print(fraise)"
   ]
  },
  {
   "cell_type": "markdown",
   "metadata": {},
   "source": [
    "En Python, les éléments d'une liste sont indexés à partir de 0."
   ]
  },
  {
   "cell_type": "code",
   "execution_count": null,
   "metadata": {},
   "outputs": [],
   "source": [
    " fraise[0], fraise[1], fraise[2], fraise[3], fraise[4], fraise[5]"
   ]
  },
  {
   "cell_type": "markdown",
   "metadata": {},
   "source": [
    "Si on tente d'extraire un élément avec un index dépassant la taille de la liste, Python renvoi un message d'erreur:"
   ]
  },
  {
   "cell_type": "code",
   "execution_count": null,
   "metadata": {},
   "outputs": [],
   "source": [
    " #fraise[6] # Décommenter pour voir l'exception"
   ]
  },
  {
   "cell_type": "markdown",
   "metadata": {},
   "source": [
    "On peut extraire une sous-liste en déclarant l'indice de début (inclus) et l'indice de fin (exclu), séparés par deux-points: ```ListName[i:j]``` , ou encore une sous-liste en déclarant l'indice de début (inclus), l'indice de fin (exclu) et le pas, séparés par des deux-points: ```ListName[i:j:k]```. Cette opération est connue sous le nom de slicing (en anglais).\n",
    "Un dessin et quelques exemples permettrons de bien comprendre cette opération fort utile:\n",
    "\n",
    "<img src=\"img/img1.png\" width='400'>"
   ]
  },
  {
   "cell_type": "code",
   "execution_count": null,
   "metadata": {},
   "outputs": [],
   "source": [
    " fraise[2:4]"
   ]
  },
  {
   "cell_type": "code",
   "execution_count": null,
   "metadata": {},
   "outputs": [],
   "source": [
    "fraise[2:]"
   ]
  },
  {
   "cell_type": "code",
   "execution_count": null,
   "metadata": {},
   "outputs": [],
   "source": [
    "fraise[:2]"
   ]
  },
  {
   "cell_type": "code",
   "execution_count": null,
   "metadata": {},
   "outputs": [],
   "source": [
    " fraise[:]"
   ]
  },
  {
   "cell_type": "code",
   "execution_count": null,
   "metadata": {},
   "outputs": [],
   "source": [
    " fraise[2:5]"
   ]
  },
  {
   "cell_type": "code",
   "execution_count": null,
   "metadata": {},
   "outputs": [],
   "source": [
    " fraise[2:6]"
   ]
  },
  {
   "cell_type": "code",
   "execution_count": null,
   "metadata": {},
   "outputs": [],
   "source": [
    " fraise[2:7]"
   ]
  },
  {
   "cell_type": "code",
   "execution_count": null,
   "metadata": {},
   "outputs": [],
   "source": [
    " fraise[2:6:2]"
   ]
  },
  {
   "cell_type": "code",
   "execution_count": null,
   "metadata": {},
   "outputs": [],
   "source": [
    " fraise[-2:-4]"
   ]
  },
  {
   "cell_type": "code",
   "execution_count": null,
   "metadata": {},
   "outputs": [],
   "source": [
    " fraise[-4:-2]"
   ]
  },
  {
   "cell_type": "markdown",
   "metadata": {},
   "source": [
    "À noter que lorsqu'on utilise des tranches, les dépassements d'indices sont licites. Voici quelques opérations et méthodes très courantes associées aux listes:\n",
    "\n",
    "1. ```a.append(x)``` ajoute l'élément x en fin de la liste a;\n",
    "2. ```a.extend(L)``` ajoute les éléments de la liste L en fin de la liste a , équivaut à ```a+L```\n",
    "3. ```a.insert(i,x)``` ajoute l'élément x en position i de la liste a , équivaut à ```a[i:i]=x``` \n",
    "4. ```a.remove(x)``` supprime la première occurrence de l'élément x dans la liste a \n",
    "5. ```a.pop([i])``` supprime l'élément d'indice i dans la liste a et le renvoi\n",
    "6. ```a.index(x)``` renvoie l'indice de la première occurrence de l'élément x dans la liste a\n",
    "7. ```a.count(x)``` renvoie le nombre d'occurrence de l'élément x dans la liste a\n",
    "\n",
    "8. ```a.sort()``` modifie la liste a en la triant\n",
    "9. ```a.reverse()``` modifie la liste a en inversant les éléments\n",
    "10. ```len(a)``` renvoie le nombre d'éléments de la liste a\n",
    "11. ```x in a``` renvoi ```True``` si la liste a contient l'élément x , ```False``` sinon\n",
    "12. ```x not in a``` renvoi ```True``` si la liste a ne contient pas l'élément x , ```False```sinon \n",
    "13. ```max(a)``` renvoi le plus grand élément de la liste a\n",
    "14. ```min(a)``` renvoi le plus petit élément de la liste a"
   ]
  },
  {
   "cell_type": "code",
   "execution_count": null,
   "metadata": {},
   "outputs": [],
   "source": [
    "a = [2, 37, 20, 83, -79, 21] # Create a list \n",
    "print(a)"
   ]
  },
  {
   "cell_type": "code",
   "execution_count": null,
   "metadata": {},
   "outputs": [],
   "source": [
    " a.append(100) # Append 100 to list \n",
    "print(a)"
   ]
  },
  {
   "cell_type": "code",
   "execution_count": null,
   "metadata": {},
   "outputs": [],
   "source": [
    "L = [17, 34, 21] \n",
    "a.extend(L) \n",
    "print(a)"
   ]
  },
  {
   "cell_type": "code",
   "execution_count": null,
   "metadata": {},
   "outputs": [],
   "source": [
    "a.count(21)"
   ]
  },
  {
   "cell_type": "code",
   "execution_count": null,
   "metadata": {},
   "outputs": [],
   "source": [
    "a.remove(21)\n",
    "print(a)"
   ]
  },
  {
   "cell_type": "code",
   "execution_count": null,
   "metadata": {},
   "outputs": [],
   "source": [
    "a.count(21)"
   ]
  },
  {
   "cell_type": "code",
   "execution_count": null,
   "metadata": {},
   "outputs": [],
   "source": [
    "a.pop(4)"
   ]
  },
  {
   "cell_type": "code",
   "execution_count": null,
   "metadata": {},
   "outputs": [],
   "source": [
    "print(a)"
   ]
  },
  {
   "cell_type": "code",
   "execution_count": null,
   "metadata": {},
   "outputs": [],
   "source": [
    "a.index(100)"
   ]
  },
  {
   "cell_type": "code",
   "execution_count": null,
   "metadata": {},
   "outputs": [],
   "source": [
    "a.reverse()\n",
    "print(a)"
   ]
  },
  {
   "cell_type": "code",
   "execution_count": null,
   "metadata": {},
   "outputs": [],
   "source": [
    "a.sort()\n",
    "print(a)"
   ]
  },
  {
   "cell_type": "code",
   "execution_count": null,
   "metadata": {},
   "outputs": [],
   "source": [
    "len(a) # Determine length of list"
   ]
  },
  {
   "cell_type": "code",
   "execution_count": null,
   "metadata": {},
   "outputs": [],
   "source": [
    "a.insert(2,7) # Insert 7 in position 2\n",
    "print(a)"
   ]
  },
  {
   "cell_type": "code",
   "execution_count": null,
   "metadata": {},
   "outputs": [],
   "source": [
    "a[0] = 21 # Modify selected element\n",
    "print(a)"
   ]
  },
  {
   "cell_type": "code",
   "execution_count": null,
   "metadata": {},
   "outputs": [],
   "source": [
    "a[2:4] = [-2,-5,-1978] # Modify selected elements\n",
    "print(a)"
   ]
  },
  {
   "cell_type": "markdown",
   "metadata": {},
   "source": [
    "**ATTENTION:** si a est une liste, la commande b=a ne crée pas un nouvel objet b mais simplement une référence (pointeur) vers a. Ainsi, tout changement effectué sur b sera répercuté sur a aussi! Pour créer une copie c de la liste a qui soit vraiment indépendante on utilisera la commande deepcopy du module copy:"
   ]
  },
  {
   "cell_type": "code",
   "execution_count": null,
   "metadata": {},
   "outputs": [],
   "source": [
    "import copy\n",
    "a = [1.0, 2.0, 3.0]\n",
    "b = a # 'b' is an alias of 'a'\n",
    "b[0] = 5.0 # Change 'b'\n",
    "print(a) # The change is reflected in 'a' \n",
    "print(b)"
   ]
  },
  {
   "cell_type": "code",
   "execution_count": null,
   "metadata": {},
   "outputs": [],
   "source": [
    "a = [1.0, 2.0, 3.0]\n",
    "c = copy.deepcopy(a) # 'c' is an independent copy of 'a' \n",
    "c[0] = 5.0 # Change 'c'\n",
    "print(a) # 'a' is not affected by the change\n",
    "print(c)"
   ]
  },
  {
   "cell_type": "markdown",
   "metadata": {},
   "source": [
    "Qu'est-ce qui se passe lorsque on copie une liste a avec la commande b=a ? Une liste fonctionne comme un carnet d'adresses qui contient les emplacements en mémoire des différents éléments de la liste. Lorsque on écrit b=a on dit que b contient les mêmes adresses que a (on dit que les deux listes pointent vers le même objet). Ainsi, lorsqu'on modifie la valeur de l'objet, la modification sera visible depuis les deux alias."
   ]
  },
  {
   "cell_type": "markdown",
   "metadata": {},
   "source": [
    "## Matrices (sans NumPy )\n",
    "\n",
    "Les matrices peuvent être représentées comme des listes imbriquées: chaque ligne est un élément d'une liste."
   ]
  },
  {
   "cell_type": "code",
   "execution_count": null,
   "metadata": {},
   "outputs": [],
   "source": [
    "a = [[1, 2, 3], [4, 5, 6], [7, 8, 9]]\n",
    "print(a)"
   ]
  },
  {
   "cell_type": "markdown",
   "metadata": {},
   "source": [
    "définit a comme la matrice $3x3$\n",
    "\n",
    "$$\\begin{pmatrix} 1 & 2 & 3 \\\\ 4 & 5 & 6 \\\\ 7 & 8 & 9 \\end{pmatrix}$$\n",
    "\n",
    "La commande len (comme length) renvoie la longueur d'une liste. On obtient donc le nombre de ligne de la matrice avec ```len(a)``` et son nombre de colonnes avec ```len(a[0])``` :"
   ]
  },
  {
   "cell_type": "code",
   "execution_count": null,
   "metadata": {},
   "outputs": [],
   "source": [
    "print(a[1]) # Print second row (element 1)"
   ]
  },
  {
   "cell_type": "code",
   "execution_count": null,
   "metadata": {},
   "outputs": [],
   "source": [
    " print(a[1][2]) # Print third element of second row"
   ]
  },
  {
   "cell_type": "code",
   "execution_count": null,
   "metadata": {},
   "outputs": [],
   "source": [
    "print(len(a))"
   ]
  },
  {
   "cell_type": "code",
   "execution_count": null,
   "metadata": {},
   "outputs": [],
   "source": [
    "print(len(a[0]))"
   ]
  },
  {
   "cell_type": "markdown",
   "metadata": {},
   "source": [
    "Dans Python les indices commences à zéro, ainsi a[0] indique la première ligne, a[1] la\n",
    "deuxième etc.\n",
    "$$\\mathcal{A}=\\begin{pmatrix} a_{00} & a_{01} & a_{02} & \\cdots \\\\\n",
    " a_{10} & a_{11} & a_{12} & \\cdots \\\\ \n",
    " \\vdots & \\vdots & \\vdots & \\vdots \n",
    " \\end{pmatrix}$$"
   ]
  },
  {
   "cell_type": "markdown",
   "metadata": {},
   "source": [
    "## Dictionnaires\n",
    "\n",
    "Un dictionnaire est une sorte de liste mais au lieu d'utiliser des index, on utilise des clés, c'est à dire des valeurs autres que numériques.\n",
    "Pour initialiser un dictionnaire, on utile la syntaxe suivante:"
   ]
  },
  {
   "cell_type": "code",
   "execution_count": null,
   "metadata": {},
   "outputs": [],
   "source": [
    " a={}"
   ]
  },
  {
   "cell_type": "code",
   "execution_count": null,
   "metadata": {},
   "outputs": [],
   "source": [
    "a[\"nom\"] = \"engel\" \n",
    "a[\"prenom\"] = \"olivier\" \n",
    "print(a)"
   ]
  },
  {
   "cell_type": "markdown",
   "metadata": {},
   "source": [
    "La méthode ```get``` permet de récupérer une valeur dans un dictionnaire et, si la clé est introuvable, de donner une valeur à retourner par défaut:"
   ]
  },
  {
   "cell_type": "code",
   "execution_count": null,
   "metadata": {},
   "outputs": [],
   "source": [
    "data={}\n",
    "data = {\"name\": \"Olivier\", \"age\": 30} \n",
    "print(data.get(\"name\")) \n",
    "print(data.get(\"adresse\", \"Adresse inconnue\"))"
   ]
  },
  {
   "cell_type": "markdown",
   "metadata": {},
   "source": [
    "Pour vérifier la présence d'une clé on utilise ```in```"
   ]
  },
  {
   "cell_type": "code",
   "execution_count": null,
   "metadata": {},
   "outputs": [],
   "source": [
    " \"nom\" in a"
   ]
  },
  {
   "cell_type": "code",
   "execution_count": null,
   "metadata": {},
   "outputs": [],
   "source": [
    "\"age\" in a"
   ]
  },
  {
   "cell_type": "markdown",
   "metadata": {},
   "source": [
    "Il est possible de supprimer une entrée en indiquant sa clé, comme pour les listes:"
   ]
  },
  {
   "cell_type": "code",
   "execution_count": null,
   "metadata": {},
   "outputs": [],
   "source": [
    "del a[\"nom\"] \n",
    "print(a)"
   ]
  },
  {
   "cell_type": "markdown",
   "metadata": {},
   "source": [
    "- Pour récupérer les clés on utilise la méthode ```keys```\n",
    "- Pour récupérer les valeurs on utilise la méthode ```values```\n",
    "- Pour récupérer les clés et les valeurs en même temps, on utilise la méthode ```items``` qui retourne un ```tuple```."
   ]
  },
  {
   "cell_type": "code",
   "execution_count": null,
   "metadata": {},
   "outputs": [],
   "source": [
    "fiche = {\"nom\":\"engel\",\"prenom\":\"olivier\"} \n",
    "for cle in fiche.keys():\n",
    "    print(cle)\n",
    "for valeur in fiche.values():\n",
    "    print(valeur)\n",
    "for cle,valeur in fiche.items(): \n",
    "    print(cle, valeur)"
   ]
  },
  {
   "cell_type": "markdown",
   "metadata": {},
   "source": [
    "On peut utiliser des tuples comme clé comme lors de l'utilisation de coordonnées:"
   ]
  },
  {
   "cell_type": "code",
   "execution_count": null,
   "metadata": {},
   "outputs": [],
   "source": [
    "b = {} \n",
    "b[(3,2)]=12 \n",
    "b[(4,5)]=13 \n",
    "print(b)"
   ]
  },
  {
   "cell_type": "markdown",
   "metadata": {},
   "source": [
    "Comme pour les listes, pour créer une copie indépendante utiliser la méthode ```copy``` :"
   ]
  },
  {
   "cell_type": "code",
   "execution_count": null,
   "metadata": {},
   "outputs": [],
   "source": [
    "d = {\"k1\":\"olivier\", \"k2\":\"engel\"} \n",
    "e = d.copy()\n",
    "print(d)\n",
    "print(e)\n",
    "d[\"k1\"] = \"XXX\" \n",
    "print(d) \n",
    "print(e)"
   ]
  },
  {
   "cell_type": "markdown",
   "metadata": {},
   "source": [
    "## Fonction range\n",
    "La fonction range crée un ```itérateur```. Au lieu de créer et garder en mémoire une liste d'entiers, cette fonction génère les entiers au fur et à mesure des besoins:\n",
    "\n",
    "- ```range(n)``` renvoi un itérateur parcourant $0, 1, 2, \\cdots , n-1$\n",
    "- ```range(n,m)``` renvoi un itérateur parcourant $n, n+1, \\cdots, m-1$\n",
    "- ```range(n,m,p)``` renvoi un itérateur parcourant $n, n+p, np, \\cdots, m-1$"
   ]
  },
  {
   "cell_type": "code",
   "execution_count": null,
   "metadata": {},
   "outputs": [],
   "source": [
    "A = range(0,10) \n",
    "print(A)"
   ]
  },
  {
   "cell_type": "markdown",
   "metadata": {},
   "source": [
    "Pour les afficher on crée une ```list``` :"
   ]
  },
  {
   "cell_type": "code",
   "execution_count": null,
   "metadata": {},
   "outputs": [],
   "source": [
    "A = list(A) \n",
    "print(A)"
   ]
  },
  {
   "cell_type": "code",
   "execution_count": null,
   "metadata": {},
   "outputs": [],
   "source": [
    "print(list(range(0)))\n",
    "print(list(range(1)))\n",
    "print(list(range(3,7)))"
   ]
  },
  {
   "cell_type": "code",
   "execution_count": null,
   "metadata": {},
   "outputs": [],
   "source": [
    "print(list(range(0,20,5)))\n",
    "print(list(range(0,20,-5)))\n",
    "print(list(range(0,-20,-5)))\n",
    "print(list(range(20,0,-5)))"
   ]
  },
  {
   "cell_type": "markdown",
   "metadata": {},
   "source": [
    "## Fonction print\n",
    "Pour afficher à l'écran des objets on utilise la fonction ```print(object1, object2, ...)``` qui convertis ```object1```, ```object2``` en chaînes de caractères et les affiche sur la même ligne séparés par des espace."
   ]
  },
  {
   "cell_type": "code",
   "execution_count": null,
   "metadata": {},
   "outputs": [],
   "source": [
    "a = 12345,6789 \n",
    "b = [2, 4, 6, 8] \n",
    "print(a,b)"
   ]
  },
  {
   "cell_type": "markdown",
   "metadata": {},
   "source": [
    "Le retour à la ligne peut être forcé par le caractère ```\\n``` , la tabulation par le caractère ```\\t```."
   ]
  },
  {
   "cell_type": "code",
   "execution_count": null,
   "metadata": {},
   "outputs": [],
   "source": [
    "print(\"a=\", a, \"\\tb=\", b) \n",
    "print(\"a=\", a, \"\\nb=\", b)"
   ]
  },
  {
   "cell_type": "markdown",
   "metadata": {},
   "source": [
    "Pour mettre en colonne des nombres on pourra utiliser l'opérateur % : la commande ```print('%format1, %format2,...' %(n1,n2,...)``` affiche les nombres $n_1,n_2,\\cdots$ selon les règles ```%format1```, ```%format2```,... . \n",
    "Typiquement on utilise\n",
    "- **wd** pour un entier\n",
    "- **w.df** pour un nombre en notation floating point \n",
    "- **w.de** pour un nombre en notation scientifique\n",
    "où ```w``` est la largeur du champ total et ```d``` le nombre de chiffres après la virgule."
   ]
  },
  {
   "cell_type": "code",
   "execution_count": null,
   "metadata": {},
   "outputs": [],
   "source": [
    "a = 1234.56789\n",
    "n = 9876 \n",
    "print('%7.2f' %a)"
   ]
  },
  {
   "cell_type": "code",
   "execution_count": null,
   "metadata": {},
   "outputs": [],
   "source": [
    "print('n = %6d' %n)"
   ]
  },
  {
   "cell_type": "code",
   "execution_count": null,
   "metadata": {},
   "outputs": [],
   "source": [
    "print('n = %06d' %n)"
   ]
  },
  {
   "cell_type": "code",
   "execution_count": null,
   "metadata": {},
   "outputs": [],
   "source": [
    "print('%12.3f %6d' %(a,n))"
   ]
  },
  {
   "cell_type": "code",
   "execution_count": null,
   "metadata": {},
   "outputs": [],
   "source": [
    "print('%12.4e %6d' %(a,n))"
   ]
  },
  {
   "cell_type": "markdown",
   "metadata": {},
   "source": [
    "## Opérations arithmétiques\n",
    "- \\+ Addition\n",
    "- \\- Soustraction\n",
    "- \\* Multiplication\n",
    "- / Division\n",
    "- ** Exponentiation\n",
    "- // Quotient de la division euclidienne \n",
    "- % Reste de la division euclidienne"
   ]
  },
  {
   "cell_type": "code",
   "execution_count": null,
   "metadata": {},
   "outputs": [],
   "source": [
    "a = 100 \n",
    "b = 17 \n",
    "c = a-b \n",
    "a,b,c"
   ]
  },
  {
   "cell_type": "code",
   "execution_count": null,
   "metadata": {},
   "outputs": [],
   "source": [
    "a=2\n",
    "c = b+a \n",
    "a,b,c"
   ]
  },
  {
   "cell_type": "code",
   "execution_count": null,
   "metadata": {},
   "outputs": [],
   "source": [
    "a=3 \n",
    "b=4 \n",
    "c=a \n",
    "a=b \n",
    "b=c \n",
    "a, b, c"
   ]
  },
  {
   "cell_type": "markdown",
   "metadata": {},
   "source": [
    "Certains de ces opérations sont aussi définies pour les chaînes de caractères et les listes comme dans l'exemple suivant:"
   ]
  },
  {
   "cell_type": "code",
   "execution_count": null,
   "metadata": {},
   "outputs": [],
   "source": [
    "s = 'Hello '\n",
    "t = 'to you'\n",
    "a = [1, 2, 3] \n",
    "print(3*s) # Repetition"
   ]
  },
  {
   "cell_type": "code",
   "execution_count": null,
   "metadata": {},
   "outputs": [],
   "source": [
    "print(3*a) # Repetition"
   ]
  },
  {
   "cell_type": "code",
   "execution_count": null,
   "metadata": {},
   "outputs": [],
   "source": [
    "print(a + [4, 5]) # Append elements"
   ]
  },
  {
   "cell_type": "code",
   "execution_count": null,
   "metadata": {},
   "outputs": [],
   "source": [
    "print(s + t) # Concatenation"
   ]
  },
  {
   "cell_type": "code",
   "execution_count": null,
   "metadata": {},
   "outputs": [],
   "source": [
    "#print(3 + s) # Décommenter pour voir l'exception"
   ]
  },
  {
   "cell_type": "markdown",
   "metadata": {},
   "source": [
    "Il existe aussi les opérateurs augmentés:\n",
    "\n",
    "<img src=\"img/img2.png\" width='300'>"
   ]
  },
  {
   "cell_type": "markdown",
   "metadata": {},
   "source": [
    "## Opérateurs de comparaison et connecteurs logiques\n",
    "Les opérateurs de comparaison renvoient ```True``` si la condition est vérifiée, ```False``` sinon. Ces opérateurs sont :\n",
    "\n",
    "<img src=\"img/img3.png\" width='200'>\n",
    "\n",
    "**Attention: bien distinguer l'instruction d'affectation ```=``` du symbole de comparaison ```==```**\n",
    "\n",
    "Pour combiner des conditions complexes (par exemple $x>2$ et $x^2>5$), on peut combiner des variables booléennes en utilisant les connecteurs logiques:\n",
    "\n",
    "<img src=\"img/img4.png\" width='200'>\n",
    "\n",
    "Deux nombres de type différents (entier, à virgule flottante, etc.) sont convertis en un type commun avant de faire la comparaison. Dans tous les autres cas, deux objets de type différents sont considérés non égaux."
   ]
  },
  {
   "cell_type": "code",
   "execution_count": null,
   "metadata": {},
   "outputs": [],
   "source": [
    "a = 2 # Integer\n",
    "b = 1.99 # Floating\n",
    "c = '2' # String\n",
    "print('a>b?',a>b)\n",
    "print('a==c?',a==c)\n",
    "print('(a>b) and (a==c)?',(a>b) and (a==c)) \n",
    "print('(a>b) or (a==c)?',(a>b) or (a==c))"
   ]
  },
  {
   "cell_type": "code",
   "execution_count": null,
   "metadata": {},
   "outputs": [],
   "source": []
  }
 ],
 "metadata": {
  "kernelspec": {
   "display_name": "Python 3",
   "language": "python",
   "name": "python3"
  },
  "language_info": {
   "codemirror_mode": {
    "name": "ipython",
    "version": 3
   },
   "file_extension": ".py",
   "mimetype": "text/x-python",
   "name": "python",
   "nbconvert_exporter": "python",
   "pygments_lexer": "ipython3",
   "version": "3.7.6"
  }
 },
 "nbformat": 4,
 "nbformat_minor": 4
}
